{
  "nbformat": 4,
  "nbformat_minor": 0,
  "metadata": {
    "colab": {
      "name": "Music Recommender System.ipynb",
      "provenance": [],
      "collapsed_sections": []
    },
    "kernelspec": {
      "display_name": "Python 3",
      "name": "python3"
    }
  },
  "cells": [
    {
      "cell_type": "markdown",
      "metadata": {
        "id": "uixRc0XtrHuj"
      },
      "source": [
        "# **WELCOME TO THIS NOTEBOOK**"
      ]
    },
    {
      "cell_type": "markdown",
      "metadata": {
        "id": "hMZ64UxxrMvL"
      },
      "source": [
        "Let's install pyspark"
      ]
    },
    {
      "cell_type": "code",
      "metadata": {
        "id": "Dal3Np2Imn8u",
        "colab": {
          "base_uri": "https://localhost:8080/"
        },
        "outputId": "cc167d8a-d99f-4b1f-b959-9787e194dc30"
      },
      "source": [
        "!pip install pyspark"
      ],
      "execution_count": null,
      "outputs": [
        {
          "output_type": "stream",
          "text": [
            "Requirement already satisfied: pyspark in /usr/local/lib/python3.7/dist-packages (3.1.2)\n",
            "Requirement already satisfied: py4j==0.10.9 in /usr/local/lib/python3.7/dist-packages (from pyspark) (0.10.9)\n"
          ],
          "name": "stdout"
        }
      ]
    },
    {
      "cell_type": "markdown",
      "metadata": {
        "id": "eK9D-CNgru_s"
      },
      "source": [
        "Importing the modules"
      ]
    },
    {
      "cell_type": "code",
      "metadata": {
        "id": "Z_cmzia9nA1W"
      },
      "source": [
        "from pyspark.sql import SparkSession\n",
        "from pyspark.sql.functions import count, desc , col, max\n",
        "from pyspark.ml.feature import  StringIndexer\n",
        "from pyspark.ml import Pipeline\n",
        "from pyspark.ml.recommendation import ALS\n",
        "from pyspark.ml.tuning import TrainValidationSplit, ParamGridBuilder"
      ],
      "execution_count": null,
      "outputs": []
    },
    {
      "cell_type": "markdown",
      "metadata": {
        "id": "pjM5P6b0rVpH"
      },
      "source": [
        "Creating the spark session\n"
      ]
    },
    {
      "cell_type": "code",
      "metadata": {
        "id": "gvSzI0zMn4Hk"
      },
      "source": [
        "#create spark session\n",
        "spark = SparkSession.builder.appName('lastfm').getOrCreate()"
      ],
      "execution_count": null,
      "outputs": []
    },
    {
      "cell_type": "markdown",
      "metadata": {
        "id": "KnyYdMVmnkp5"
      },
      "source": [
        "# Loading the dataset"
      ]
    },
    {
      "cell_type": "code",
      "metadata": {
        "id": "PywJeVgDngVd",
        "colab": {
          "base_uri": "https://localhost:8080/"
        },
        "outputId": "5bbe265b-b543-49b9-cb65-604eebb30a60"
      },
      "source": [
        "#get file path\n",
        "file_path = '/content/listenings.csv'\n",
        "\n",
        "#create dataframe\n",
        "df_listenings = spark.read.format('csv').option('header', True).option('inferSchema', True).load(file_path)\n",
        "df_listenings.show()"
      ],
      "execution_count": null,
      "outputs": [
        {
          "output_type": "stream",
          "text": [
            "+-----------+-------------+--------------------+---------------+--------------------+\n",
            "|    user_id|         date|               track|         artist|               album|\n",
            "+-----------+-------------+--------------------+---------------+--------------------+\n",
            "|000Silenced|1299680100000|           Price Tag|       Jessie J|         Who You Are|\n",
            "|000Silenced|1299679920000|Price Tag (Acoust...|       Jessie J|           Price Tag|\n",
            "|000Silenced|1299679440000|Be Mine! (Ballad ...|          Robyn|            Be Mine!|\n",
            "|000Silenced|1299679200000|            Acapella|          Kelis|            Acapella|\n",
            "|000Silenced|1299675660000|   I'm Not Invisible|      The Tease|   I'm Not Invisible|\n",
            "|000Silenced|1297511400000|Bounce (Feat NORE...|       MSTRKRFT|         Fist of God|\n",
            "|000Silenced|1294498440000|Don't Stop The Mu...|        Rihanna|Addicted 2 Bassli...|\n",
            "|000Silenced|1292438340000|               ObZen|      Meshuggah|               ObZen|\n",
            "|000Silenced|1292437740000|   Yama's Messengers|         Gojira|The Way of All Flesh|\n",
            "|000Silenced|1292436360000|On the Brink of E...|   Napalm Death|Time Waits For No...|\n",
            "|000Silenced|1292436360000|On the Brink of E...|   Napalm Death|Time Waits For No...|\n",
            "|000Silenced|1292435940000|        In Deference|   Napalm Death|      Smear Campaign|\n",
            "|000Silenced|1292434920000|      Post(?)organic|    Decapitated|Organic Hallucinosis|\n",
            "|000Silenced|1292434560000|        Mind Feeders|   Dom & Roland| No Strings Attached|\n",
            "|000Silenced|1292434320000|Necrosadistic War...|Cannibal Corpse|                Kill|\n",
            "|000Silenced|1292365560000|     Dance All Night|   Dom & Roland|          Chronology|\n",
            "|000Silenced|1292365260000|          Late Night|   Dom & Roland|          Chronology|\n",
            "|000Silenced|1292365020000|          Freak Seen|   Dom & Roland|          Chronology|\n",
            "|000Silenced|1292364720000|Paradrenasite (Hi...|   Dom & Roland|          Chronology|\n",
            "|000Silenced|1292364300000|               Rhino|   Dom & Roland|          Chronology|\n",
            "+-----------+-------------+--------------------+---------------+--------------------+\n",
            "only showing top 20 rows\n",
            "\n"
          ],
          "name": "stdout"
        }
      ]
    },
    {
      "cell_type": "markdown",
      "metadata": {
        "id": "YUHBP0yjoJvc"
      },
      "source": [
        "\n",
        "# Cleaning tables "
      ]
    },
    {
      "cell_type": "code",
      "metadata": {
        "id": "N8luDo3HndTb",
        "colab": {
          "base_uri": "https://localhost:8080/"
        },
        "outputId": "c3c85be0-75fb-4a4b-b962-5e0dfafb8393"
      },
      "source": [
        "#drop 'date' column\n",
        "df_listenings = df_listenings.drop('date')\n",
        "df_listenings.show()"
      ],
      "execution_count": null,
      "outputs": [
        {
          "output_type": "stream",
          "text": [
            "+-----------+--------------------+---------------+--------------------+\n",
            "|    user_id|               track|         artist|               album|\n",
            "+-----------+--------------------+---------------+--------------------+\n",
            "|000Silenced|           Price Tag|       Jessie J|         Who You Are|\n",
            "|000Silenced|Price Tag (Acoust...|       Jessie J|           Price Tag|\n",
            "|000Silenced|Be Mine! (Ballad ...|          Robyn|            Be Mine!|\n",
            "|000Silenced|            Acapella|          Kelis|            Acapella|\n",
            "|000Silenced|   I'm Not Invisible|      The Tease|   I'm Not Invisible|\n",
            "|000Silenced|Bounce (Feat NORE...|       MSTRKRFT|         Fist of God|\n",
            "|000Silenced|Don't Stop The Mu...|        Rihanna|Addicted 2 Bassli...|\n",
            "|000Silenced|               ObZen|      Meshuggah|               ObZen|\n",
            "|000Silenced|   Yama's Messengers|         Gojira|The Way of All Flesh|\n",
            "|000Silenced|On the Brink of E...|   Napalm Death|Time Waits For No...|\n",
            "|000Silenced|On the Brink of E...|   Napalm Death|Time Waits For No...|\n",
            "|000Silenced|        In Deference|   Napalm Death|      Smear Campaign|\n",
            "|000Silenced|      Post(?)organic|    Decapitated|Organic Hallucinosis|\n",
            "|000Silenced|        Mind Feeders|   Dom & Roland| No Strings Attached|\n",
            "|000Silenced|Necrosadistic War...|Cannibal Corpse|                Kill|\n",
            "|000Silenced|     Dance All Night|   Dom & Roland|          Chronology|\n",
            "|000Silenced|          Late Night|   Dom & Roland|          Chronology|\n",
            "|000Silenced|          Freak Seen|   Dom & Roland|          Chronology|\n",
            "|000Silenced|Paradrenasite (Hi...|   Dom & Roland|          Chronology|\n",
            "|000Silenced|               Rhino|   Dom & Roland|          Chronology|\n",
            "+-----------+--------------------+---------------+--------------------+\n",
            "only showing top 20 rows\n",
            "\n"
          ],
          "name": "stdout"
        }
      ]
    },
    {
      "cell_type": "code",
      "metadata": {
        "id": "5rDadwmpowII",
        "colab": {
          "base_uri": "https://localhost:8080/"
        },
        "outputId": "a5c8eb8a-0d83-4670-82dc-bb3bf57839f2"
      },
      "source": [
        "#drop null\n",
        "df_listenings = df_listenings.na.drop()\n",
        "df_listenings.show()"
      ],
      "execution_count": null,
      "outputs": [
        {
          "output_type": "stream",
          "text": [
            "+-----------+--------------------+---------------+--------------------+\n",
            "|    user_id|               track|         artist|               album|\n",
            "+-----------+--------------------+---------------+--------------------+\n",
            "|000Silenced|           Price Tag|       Jessie J|         Who You Are|\n",
            "|000Silenced|Price Tag (Acoust...|       Jessie J|           Price Tag|\n",
            "|000Silenced|Be Mine! (Ballad ...|          Robyn|            Be Mine!|\n",
            "|000Silenced|            Acapella|          Kelis|            Acapella|\n",
            "|000Silenced|   I'm Not Invisible|      The Tease|   I'm Not Invisible|\n",
            "|000Silenced|Bounce (Feat NORE...|       MSTRKRFT|         Fist of God|\n",
            "|000Silenced|Don't Stop The Mu...|        Rihanna|Addicted 2 Bassli...|\n",
            "|000Silenced|               ObZen|      Meshuggah|               ObZen|\n",
            "|000Silenced|   Yama's Messengers|         Gojira|The Way of All Flesh|\n",
            "|000Silenced|On the Brink of E...|   Napalm Death|Time Waits For No...|\n",
            "|000Silenced|On the Brink of E...|   Napalm Death|Time Waits For No...|\n",
            "|000Silenced|        In Deference|   Napalm Death|      Smear Campaign|\n",
            "|000Silenced|      Post(?)organic|    Decapitated|Organic Hallucinosis|\n",
            "|000Silenced|        Mind Feeders|   Dom & Roland| No Strings Attached|\n",
            "|000Silenced|Necrosadistic War...|Cannibal Corpse|                Kill|\n",
            "|000Silenced|     Dance All Night|   Dom & Roland|          Chronology|\n",
            "|000Silenced|          Late Night|   Dom & Roland|          Chronology|\n",
            "|000Silenced|          Freak Seen|   Dom & Roland|          Chronology|\n",
            "|000Silenced|Paradrenasite (Hi...|   Dom & Roland|          Chronology|\n",
            "|000Silenced|               Rhino|   Dom & Roland|          Chronology|\n",
            "+-----------+--------------------+---------------+--------------------+\n",
            "only showing top 20 rows\n",
            "\n"
          ],
          "name": "stdout"
        }
      ]
    },
    {
      "cell_type": "code",
      "metadata": {
        "id": "PeH7vYKEoyWa",
        "colab": {
          "base_uri": "https://localhost:8080/"
        },
        "outputId": "1d1001fc-502d-4fff-d808-e8c1661b56c3"
      },
      "source": [
        "#check shape\n",
        "row_numbers = df_listenings.count()\n",
        "column_numbers = len(df_listenings.columns)\n",
        "print(row_numbers, column_numbers)"
      ],
      "execution_count": null,
      "outputs": [
        {
          "output_type": "stream",
          "text": [
            "13865391 4\n"
          ],
          "name": "stdout"
        }
      ]
    },
    {
      "cell_type": "markdown",
      "metadata": {
        "id": "cyf1XITGpMWV"
      },
      "source": [
        "\n",
        "# Let's Perform some aggregation\n",
        "to see how many times each user has listened to specific track\n"
      ]
    },
    {
      "cell_type": "code",
      "metadata": {
        "id": "RhVz-SvapIyr",
        "colab": {
          "base_uri": "https://localhost:8080/"
        },
        "outputId": "4f32906c-cbb9-4c4a-8468-f1aa2091152b"
      },
      "source": [
        "df_listenings_agg = df_listenings.select('user_id', 'track').groupby('user_id', 'track').agg(count('*').alias('count')).orderBy('user_id')\n",
        "df_listenings_agg.show()"
      ],
      "execution_count": null,
      "outputs": [
        {
          "output_type": "stream",
          "text": [
            "+-------+--------------------+-----+\n",
            "|user_id|               track|count|\n",
            "+-------+--------------------+-----+\n",
            "| --Seph|Chelsea Hotel - L...|    1|\n",
            "| --Seph|        Window Blues|    1|\n",
            "| --Seph|          Paris 2004|    7|\n",
            "| --Seph|     The Way We Were|    1|\n",
            "| --Seph|Vestido Estampado...|    1|\n",
            "| --Seph|               Leloo|    1|\n",
            "| --Seph|         The Embrace|    1|\n",
            "| --Seph|      Hour for magic|    2|\n",
            "| --Seph|Hungarian Rhapsod...|    1|\n",
            "| --Seph| Air on the G String|    1|\n",
            "| --Seph|              Monday|    1|\n",
            "| --Seph|Belina (Original ...|    1|\n",
            "| --Seph|   Summa for Strings|    1|\n",
            "| --Seph| White Winter Hymnal|    3|\n",
            "| --Seph|       Phantom Pt II|    1|\n",
            "| --Seph|  California Waiting|    1|\n",
            "| --Seph|Hungarian Dance No 5|    1|\n",
            "| --Seph|       Life On Mars?|    1|\n",
            "| --Seph|Airplanes [feat H...|    1|\n",
            "| --Seph|Virus (Luke Fair ...|    1|\n",
            "+-------+--------------------+-----+\n",
            "only showing top 20 rows\n",
            "\n"
          ],
          "name": "stdout"
        }
      ]
    },
    {
      "cell_type": "code",
      "metadata": {
        "id": "KsTXVsO7I7Jw"
      },
      "source": [
        "row_numbers = df_listenings_agg.count()\n",
        "column_numbers = len(df_listenings_agg.columns)\n",
        "print(row_numbers, column_numbers)"
      ],
      "execution_count": null,
      "outputs": []
    },
    {
      "cell_type": "markdown",
      "metadata": {
        "id": "vuebvg7UqzsO"
      },
      "source": [
        "# Let's convert the user id and track columns into unique integers\n",
        "\n",
        "\n"
      ]
    },
    {
      "cell_type": "code",
      "metadata": {
        "id": "F9RSpj3DN6aX"
      },
      "source": [
        "#get a smaller size dataset\n",
        "df_listenings_agg = df_listenings_agg.limit(20000)"
      ],
      "execution_count": null,
      "outputs": []
    },
    {
      "cell_type": "code",
      "metadata": {
        "id": "efL-hiR-q-AO"
      },
      "source": [
        "indexer = [StringIndexer(inputCol=col, \n",
        "                         outputCol=col+'_index').fit(df_listenings_agg) for col in list(set(df_listenings_agg.columns) - set(['count']))]\n",
        "\n",
        "pipeline = Pipeline(stages=indexer)\n",
        "\n",
        "data = pipeline.fit(df_listenings_agg).transform(df_listenings_agg)\n",
        "data.show()"
      ],
      "execution_count": null,
      "outputs": []
    },
    {
      "cell_type": "code",
      "metadata": {
        "id": "OfKtj2ojrKae",
        "colab": {
          "base_uri": "https://localhost:8080/"
        },
        "outputId": "c2680cff-7e43-4dda-fd9c-77248b7b91bb"
      },
      "source": [
        "#select desired columns\n",
        "data = data.select('user_id_index', 'track_index', 'count').orderBy('user_id_index')\n",
        "data.show()"
      ],
      "execution_count": null,
      "outputs": [
        {
          "output_type": "stream",
          "text": [
            "+-------------+-----------+-----+\n",
            "|user_id_index|track_index|count|\n",
            "+-------------+-----------+-----+\n",
            "|          0.0|     2369.0|    2|\n",
            "|          0.0|     4116.0|    1|\n",
            "|          0.0|    14314.0|    1|\n",
            "|          0.0|       34.0|    3|\n",
            "|          0.0|    13211.0|    1|\n",
            "|          0.0|     5348.0|    1|\n",
            "|          0.0|    11192.0|    1|\n",
            "|          0.0|     2238.0|    1|\n",
            "|          0.0|     9397.0|    1|\n",
            "|          0.0|     2862.0|    1|\n",
            "|          0.0|     2661.0|    4|\n",
            "|          0.0|     6067.0|    1|\n",
            "|          0.0|     9996.0|    1|\n",
            "|          0.0|     3336.0|    1|\n",
            "|          0.0|    10623.0|    1|\n",
            "|          0.0|    12169.0|    1|\n",
            "|          0.0|    13536.0|    1|\n",
            "|          0.0|      789.0|    1|\n",
            "|          0.0|    11565.0|    1|\n",
            "|          0.0|       68.0|    1|\n",
            "+-------------+-----------+-----+\n",
            "only showing top 20 rows\n",
            "\n"
          ],
          "name": "stdout"
        }
      ]
    },
    {
      "cell_type": "markdown",
      "metadata": {
        "id": "IEwviAxXsHwN"
      },
      "source": [
        "# Train and Test data"
      ]
    },
    {
      "cell_type": "code",
      "metadata": {
        "id": "DRgu2p-PsYUw"
      },
      "source": [
        "#training test split\n",
        "(training, test) = data.randomSplit([0.5, 0.5])"
      ],
      "execution_count": null,
      "outputs": []
    },
    {
      "cell_type": "markdown",
      "metadata": {
        "id": "M46wV6Gusdi5"
      },
      "source": [
        "# Let's Create our Model"
      ]
    },
    {
      "cell_type": "code",
      "metadata": {
        "id": "bwPk25M3sfRu"
      },
      "source": [
        "#create some constants\n",
        "USERID = 'user_id_index'\n",
        "TRACK = 'track_index'\n",
        "COUNT = 'count'\n",
        "\n",
        "#create model\n",
        "als = ALS(maxIter=5,\n",
        "          regParam=0.01,\n",
        "          userCol=USERID,\n",
        "          itemCol=TRACK,\n",
        "          ratingCol=COUNT)\n",
        "\n",
        "#fit\n",
        "model = als.fit(training)\n",
        "\n",
        "#predict\n",
        "predictions = model.transform(test)"
      ],
      "execution_count": 56,
      "outputs": []
    },
    {
      "cell_type": "markdown",
      "metadata": {
        "id": "lqBkLowzsoj8"
      },
      "source": [
        "\n",
        "# Generate top 10 Track recommendations for each user"
      ]
    },
    {
      "cell_type": "code",
      "metadata": {
        "id": "00mtv7XUsZGg"
      },
      "source": [
        "#get recommendations\n",
        "recs = model.recommendForAllUsers(10)"
      ],
      "execution_count": 60,
      "outputs": []
    },
    {
      "cell_type": "code",
      "metadata": {
        "id": "_EQnSUh3ncar",
        "colab": {
          "base_uri": "https://localhost:8080/"
        },
        "outputId": "a3e4b02b-6f9f-4b3d-a6e4-c1c1efa9edba"
      },
      "source": [
        "recs.show()"
      ],
      "execution_count": 61,
      "outputs": [
        {
          "output_type": "stream",
          "text": [
            "+-------------+--------------------+\n",
            "|user_id_index|     recommendations|\n",
            "+-------------+--------------------+\n",
            "|          148|[{1735, 10.128324...|\n",
            "|           31|[{177, 9.897927},...|\n",
            "|           85|[{11848, 5.9797},...|\n",
            "|          137|[{15424, 11.05808...|\n",
            "|           65|[{4459, 17.209393...|\n",
            "|           53|[{15789, 11.95762...|\n",
            "|          133|[{14822, 17.99633...|\n",
            "|           78|[{10665, 7.97987}...|\n",
            "|          108|[{8174, 7.989826}...|\n",
            "|           34|[{4459, 14.024325...|\n",
            "|          101|[{16911, 17.12249...|\n",
            "|          115|[{370, 8.946846},...|\n",
            "|          126|[{129, 11.913958}...|\n",
            "|           81|[{177, 7.8113375}...|\n",
            "|           28|[{1735, 6.818796}...|\n",
            "|           76|[{13104, 10.54229...|\n",
            "|           26|[{15424, 8.739826...|\n",
            "|           27|[{4459, 4.4456778...|\n",
            "|           44|[{102, 7.7473755}...|\n",
            "|          103|[{1735, 6.799515}...|\n",
            "+-------------+--------------------+\n",
            "only showing top 20 rows\n",
            "\n"
          ],
          "name": "stdout"
        }
      ]
    },
    {
      "cell_type": "code",
      "metadata": {
        "id": "stUaAoKpTgqT",
        "colab": {
          "base_uri": "https://localhost:8080/"
        },
        "outputId": "dcfcb324-7d74-4983-a865-c5c82edb65c9"
      },
      "source": [
        "recs.take(1)"
      ],
      "execution_count": 62,
      "outputs": [
        {
          "output_type": "execute_result",
          "data": {
            "text/plain": [
              "[Row(user_id_index=148, recommendations=[Row(track_index=1735, rating=10.128324508666992), Row(track_index=461, rating=8.672374725341797), Row(track_index=2242, rating=6.055615425109863), Row(track_index=8036, rating=5.641534805297852), Row(track_index=370, rating=5.204923152923584), Row(track_index=359, rating=4.93851375579834), Row(track_index=15712, rating=4.541712284088135), Row(track_index=10219, rating=4.541712284088135), Row(track_index=2455, rating=4.3719329833984375), Row(track_index=129, rating=4.188811779022217)])]"
            ]
          },
          "metadata": {},
          "execution_count": 62
        }
      ]
    }
  ]
}